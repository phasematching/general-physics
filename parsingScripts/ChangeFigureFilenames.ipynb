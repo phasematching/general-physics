{
 "cells": [
  {
   "cell_type": "code",
   "execution_count": 1,
   "id": "b6d753fc",
   "metadata": {},
   "outputs": [],
   "source": [
    "# Python 3 code to rename multiple\n",
    "# files in a directory or folder\n",
    "\n",
    "# importing os module\n",
    "import os\n",
    "\n",
    "def checkFor(filename):\n",
    "    simpleCheck=False\n",
    "    separator = \"_\"\n",
    "    \n",
    "    filenameSplit= filename.split(separator)\n",
    "    if(filenameSplit[0]=='Figure'):\n",
    "        chapter=int(filenameSplit[1])\n",
    "        if( chapter>10):\n",
    "            simpleCheck=True\n",
    "    return simpleCheck\n",
    "\n",
    "def increment_chapter(filename):\n",
    "    separator = \"_\"\n",
    "    filenameSplit= filename.split(separator)\n",
    "    if(filenameSplit[0]=='Figure'):\n",
    "        chapter=int(filenameSplit[1])\n",
    "        if( chapter>10):\n",
    "            filenameSplit[1]=str(chapter-1)\n",
    "    newFilename = separator.join(filenameSplit)\n",
    "    \n",
    "    return newFilename\n",
    "\n",
    "def inplace_change(filename, old_string, new_string):\n",
    "    # Safely read the input filename using 'with'\n",
    "    # print(filename, old_string, new_string)\n",
    "    \n",
    "    try:\n",
    "        with open(filename,'rt', encoding=\"utf-8\", errors=\"ignore\") as f:\n",
    "            s = f.read()\n",
    "            f.close()\n",
    "            if old_string not in s:\n",
    "                # print('\"{old_string}\" not found in {filename}.'.format(**locals()))\n",
    "                return\n",
    "        # Safely write the changed content, if found in the file\n",
    "        with open(filename, 'w', encoding=\"utf-8\", errors=\"ignore\") as f:\n",
    "            print('Changing \"{old_string}\" to \"{new_string}\" in {filename}'.format(**locals()))\n",
    "            s = s.replace(old_string, new_string)\n",
    "            f.write(s)\n",
    "            f.close()\n",
    "    except FileNotFoundError:\n",
    "        msg = \"Sorry, the file \"+ filename + \"does not exist.\"\n",
    "        print(msg)\n",
    "        \n",
    "def parseContent(search_text):\n",
    "    \n",
    "    folder= \"contents\"\n",
    "    for count, filename in enumerate(os.listdir(folder)):\n",
    "        new_string = increment_chapter(search_text)\n",
    "        \n",
    "        fullFilename= os.path.join(folder,filename)\n",
    "        #print(folder,filename, fullFilename)\n",
    "        inplace_change(fullFilename, search_text, new_string)\n",
    "        \n"
   ]
  },
  {
   "cell_type": "code",
   "execution_count": 2,
   "id": "b42abc4c-19e7-4d6c-87e6-672afb99ee88",
   "metadata": {},
   "outputs": [
    {
     "ename": "IndentationError",
     "evalue": "expected an indented block (1557403993.py, line 37)",
     "output_type": "error",
     "traceback": [
      "\u001b[1;36m  Input \u001b[1;32mIn [2]\u001b[1;36m\u001b[0m\n\u001b[1;33m    #main()\u001b[0m\n\u001b[1;37m           ^\u001b[0m\n\u001b[1;31mIndentationError\u001b[0m\u001b[1;31m:\u001b[0m expected an indented block\n"
     ]
    }
   ],
   "source": [
    "# Function to rename multiple files\n",
    "def main():\n",
    "    \n",
    "    folder= \"resources\"\n",
    "    newfolder= \"newresources\"\n",
    "    #os.mkdir(newfolder)\n",
    "    for count, filename in enumerate(os.listdir(folder)):\n",
    "\n",
    "        isPresent=checkFor(filename)\n",
    "        \n",
    "        if (isPresent):\n",
    "            dst = increment_chapter(filename)\n",
    "            \n",
    "            # print(isPresent, filename, dst)\n",
    "        \n",
    "            parseContent(filename)\n",
    "        \n",
    "            oldFilename= os.path.join(folder,filename)\n",
    "            newFilename= os.path.join(newfolder,dst)\n",
    "            # rename() function will\n",
    "            # rename all the files\n",
    "            os.rename(oldFilename,newFilename)\n",
    "\n",
    "            \n",
    "    for count, newfilename in enumerate(os.listdir(newfolder)):\n",
    "\n",
    "            oldFilename= os.path.join(newfolder,newfilename)\n",
    "            newFilename= os.path.join(folder,newfilename)\n",
    "            # rename() function will\n",
    "            # rename all the files\n",
    "            os.rename(oldFilename,newFilename)\n",
    "\n",
    "# Driver Code\n",
    "if __name__ == '__main__':\n",
    "\n",
    "    # Calling main() function\n",
    "    #main()\n"
   ]
  },
  {
   "cell_type": "code",
   "execution_count": 4,
   "id": "9ae30aee",
   "metadata": {},
   "outputs": [
    {
     "ename": "FileNotFoundError",
     "evalue": "[WinError 3] The system cannot find the path specified: 'newresources'",
     "output_type": "error",
     "traceback": [
      "\u001b[1;31m---------------------------------------------------------------------------\u001b[0m",
      "\u001b[1;31mFileNotFoundError\u001b[0m                         Traceback (most recent call last)",
      "Input \u001b[1;32mIn [4]\u001b[0m, in \u001b[0;36m<cell line: 4>\u001b[1;34m()\u001b[0m\n\u001b[0;32m      1\u001b[0m folder\u001b[38;5;241m=\u001b[39m \u001b[38;5;124m\"\u001b[39m\u001b[38;5;124mresources\u001b[39m\u001b[38;5;124m\"\u001b[39m\n\u001b[0;32m      2\u001b[0m newfolder\u001b[38;5;241m=\u001b[39m \u001b[38;5;124m\"\u001b[39m\u001b[38;5;124mnewresources\u001b[39m\u001b[38;5;124m\"\u001b[39m\n\u001b[1;32m----> 4\u001b[0m \u001b[38;5;28;01mfor\u001b[39;00m count, newfilename \u001b[38;5;129;01min\u001b[39;00m \u001b[38;5;28menumerate\u001b[39m(\u001b[43mos\u001b[49m\u001b[38;5;241;43m.\u001b[39;49m\u001b[43mlistdir\u001b[49m\u001b[43m(\u001b[49m\u001b[43mnewfolder\u001b[49m\u001b[43m)\u001b[49m):\n\u001b[0;32m      5\u001b[0m     oldFilename\u001b[38;5;241m=\u001b[39m os\u001b[38;5;241m.\u001b[39mpath\u001b[38;5;241m.\u001b[39mjoin(newfolder,newfilename)\n\u001b[0;32m      6\u001b[0m     newFilename\u001b[38;5;241m=\u001b[39m os\u001b[38;5;241m.\u001b[39mpath\u001b[38;5;241m.\u001b[39mjoin(folder,newfilename)\n",
      "\u001b[1;31mFileNotFoundError\u001b[0m: [WinError 3] The system cannot find the path specified: 'newresources'"
     ]
    }
   ],
   "source": [
    "folder= \"resources\"\n",
    "newfolder= \"newresources\"\n",
    "\n",
    "for count, newfilename in enumerate(os.listdir(newfolder)):\n",
    "    oldFilename= os.path.join(newfolder,newfilename)\n",
    "    newFilename= os.path.join(folder,newfilename)\n",
    "            # rename() function will\n",
    "            # rename all the files\n",
    "    #os.rename(oldFilename,newFilename)"
   ]
  },
  {
   "cell_type": "code",
   "execution_count": 3,
   "id": "49dff11b",
   "metadata": {},
   "outputs": [
    {
     "name": "stdout",
     "output_type": "stream",
     "text": [
      "resources\\Figure_01_00_01.jpg  is present\n",
      "resources\\svg  is present\n"
     ]
    }
   ],
   "source": [
    "# importing os module\n",
    "import os\n",
    "\n",
    "def findUnusedFigures():\n",
    "    \n",
    "    folder= \"resources\"\n",
    "\n",
    "    for count, filename in enumerate(os.listdir(folder)):\n",
    "        \n",
    "        #print(filename)\n",
    "        status= False\n",
    "        folderC= \"contents\"\n",
    "        for count, filenameC in enumerate(os.listdir(folderC)):\n",
    "            fC= os.path.join(folderC,filenameC)\n",
    "            with open(fC,'rt', errors=\"ignore\") as f:\n",
    "         \n",
    "                s = f.read()\n",
    "                if filename in s:\n",
    "                    #print('\"{old_string}\" not found in {filename}.'.format(**locals()))\n",
    "                    status = True\n",
    "                f.close()\n",
    "        \n",
    "        figureName= os.path.join(folder,filename)\n",
    "        if status== False:\n",
    "            # print(figureName)\n",
    "            separator = \"_\"\n",
    "            filenameSplit= filename.split(separator)\n",
    "            if(filenameSplit[0]=='Figure'):\n",
    "                #os.remove(figureName)\n",
    "                print(figurename,  ' is removed')\n",
    "        else:\n",
    "            print(figureName,  ' is present in content')\n",
    "            \n",
    "            \n",
    "# Driver Code\n",
    "if __name__ == '__main__':\n",
    "\n",
    "    # Calling main() function\n",
    "    findUnusedFigures()\n"
   ]
  },
  {
   "cell_type": "markdown",
   "id": "42e18373-3cd3-4c0e-958a-d3d91c336e23",
   "metadata": {},
   "source": [
    "\n"
   ]
  }
 ],
 "metadata": {
  "kernelspec": {
   "display_name": "Python 3 (ipykernel)",
   "language": "python",
   "name": "python3"
  },
  "language_info": {
   "codemirror_mode": {
    "name": "ipython",
    "version": 3
   },
   "file_extension": ".py",
   "mimetype": "text/x-python",
   "name": "python",
   "nbconvert_exporter": "python",
   "pygments_lexer": "ipython3",
   "version": "3.9.12"
  }
 },
 "nbformat": 4,
 "nbformat_minor": 5
}
